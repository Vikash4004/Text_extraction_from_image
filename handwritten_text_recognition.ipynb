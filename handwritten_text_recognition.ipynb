{
  "nbformat": 4,
  "nbformat_minor": 0,
  "metadata": {
    "colab": {
      "name": "handwritten_text_recognition.ipynb",
      "provenance": [],
      "collapsed_sections": []
    },
    "kernelspec": {
      "name": "python3",
      "display_name": "Python 3"
    }
  },
  "cells": [
    {
      "cell_type": "markdown",
      "metadata": {
        "id": "Pjv3YPUtpx4U",
        "colab_type": "text"
      },
      "source": [
        "Name: Vikash Ghanchi"
      ]
    },
    {
      "cell_type": "markdown",
      "metadata": {
        "id": "7uEjkc3KqTFZ",
        "colab_type": "text"
      },
      "source": [
        "Installation : These all are dependencies which we have to install.\n"
      ]
    },
    {
      "cell_type": "code",
      "metadata": {
        "id": "bB91FYYKYgzM",
        "colab_type": "code",
        "colab": {
          "base_uri": "https://localhost:8080/",
          "height": 518
        },
        "outputId": "7136ce93-f43c-454c-93e7-9af5bc92f7f0"
      },
      "source": [
        "!sudo apt-get update\n"
      ],
      "execution_count": 42,
      "outputs": [
        {
          "output_type": "stream",
          "text": [
            "\r0% [Working]\r            \rGet:1 https://cloud.r-project.org/bin/linux/ubuntu bionic-cran35/ InRelease [3,626 B]\n",
            "\r0% [Connecting to archive.ubuntu.com (91.189.88.142)] [Connecting to security.u\r0% [Connecting to archive.ubuntu.com (91.189.88.142)] [Connecting to security.u\r0% [1 InRelease gpgv 3,626 B] [Connecting to archive.ubuntu.com (91.189.88.142)\r                                                                               \rIgn:2 https://developer.download.nvidia.com/compute/cuda/repos/ubuntu1804/x86_64  InRelease\n",
            "\r0% [1 InRelease gpgv 3,626 B] [Connecting to archive.ubuntu.com (91.189.88.142)\r                                                                               \rIgn:3 https://developer.download.nvidia.com/compute/machine-learning/repos/ubuntu1804/x86_64  InRelease\n",
            "\r0% [1 InRelease gpgv 3,626 B] [Waiting for headers] [Waiting for headers] [Wait\r                                                                               \rHit:4 http://ppa.launchpad.net/graphics-drivers/ppa/ubuntu bionic InRelease\n",
            "\r0% [1 InRelease gpgv 3,626 B] [Waiting for headers] [Waiting for headers] [Wait\r                                                                               \rGet:5 http://security.ubuntu.com/ubuntu bionic-security InRelease [88.7 kB]\n",
            "\r0% [1 InRelease gpgv 3,626 B] [Waiting for headers] [5 InRelease 14.2 kB/88.7 k\r                                                                               \rGet:6 https://developer.download.nvidia.com/compute/cuda/repos/ubuntu1804/x86_64  Release [697 B]\n",
            "\r0% [1 InRelease gpgv 3,626 B] [Waiting for headers] [5 InRelease 14.2 kB/88.7 k\r0% [1 InRelease gpgv 3,626 B] [Waiting for headers] [5 InRelease 14.2 kB/88.7 k\r                                                                               \rGet:7 https://developer.download.nvidia.com/compute/machine-learning/repos/ubuntu1804/x86_64  Release [564 B]\n",
            "\r0% [1 InRelease gpgv 3,626 B] [Waiting for headers] [5 InRelease 14.2 kB/88.7 k\r0% [1 InRelease gpgv 3,626 B] [Waiting for headers] [5 InRelease 14.2 kB/88.7 k\r                                                                               \rHit:8 http://archive.ubuntu.com/ubuntu bionic InRelease\n",
            "\r0% [1 InRelease gpgv 3,626 B] [5 InRelease 14.2 kB/88.7 kB 16%] [Waiting for he\r                                                                               \rGet:9 https://developer.download.nvidia.com/compute/cuda/repos/ubuntu1804/x86_64  Release.gpg [836 B]\n",
            "\r0% [1 InRelease gpgv 3,626 B] [Waiting for headers] [5 InRelease 14.2 kB/88.7 k\r0% [1 InRelease gpgv 3,626 B] [Waiting for headers] [5 InRelease 14.2 kB/88.7 k\r0% [Waiting for headers] [5 InRelease 14.2 kB/88.7 kB 16%] [Waiting for headers\r                                                                               \rGet:10 https://developer.download.nvidia.com/compute/machine-learning/repos/ubuntu1804/x86_64  Release.gpg [833 B]\n",
            "\r0% [Waiting for headers] [5 InRelease 14.2 kB/88.7 kB 16%] [Connecting to ppa.l\r0% [4 InRelease gpgv 21.3 kB] [Waiting for headers] [5 InRelease 14.2 kB/88.7 k\r                                                                               \rGet:11 https://cloud.r-project.org/bin/linux/ubuntu bionic-cran35/ Packages [94.1 kB]\n",
            "\r0% [4 InRelease gpgv 21.3 kB] [Waiting for headers] [5 InRelease 14.2 kB/88.7 k\r0% [4 InRelease gpgv 21.3 kB] [Waiting for headers] [5 InRelease 43.1 kB/88.7 k\r0% [11 Packages store 0 B] [4 InRelease gpgv 21.3 kB] [Waiting for headers] [5 \r                                                                               \rGet:12 http://archive.ubuntu.com/ubuntu bionic-updates InRelease [88.7 kB]\n",
            "Get:13 http://ppa.launchpad.net/marutter/c2d4u3.5/ubuntu bionic InRelease [15.4 kB]\n",
            "Ign:14 https://developer.download.nvidia.com/compute/cuda/repos/ubuntu1804/x86_64  Packages\n",
            "Get:14 https://developer.download.nvidia.com/compute/cuda/repos/ubuntu1804/x86_64  Packages [214 kB]\n",
            "Get:15 http://archive.ubuntu.com/ubuntu bionic-backports InRelease [74.6 kB]\n",
            "Get:16 https://developer.download.nvidia.com/compute/machine-learning/repos/ubuntu1804/x86_64  Packages [41.2 kB]\n",
            "Get:17 http://ppa.launchpad.net/marutter/c2d4u3.5/ubuntu bionic/main Sources [1,847 kB]\n",
            "Get:18 http://security.ubuntu.com/ubuntu bionic-security/multiverse amd64 Packages [9,282 B]\n",
            "Get:19 http://security.ubuntu.com/ubuntu bionic-security/restricted amd64 Packages [89.0 kB]\n",
            "Get:20 http://archive.ubuntu.com/ubuntu bionic-updates/universe amd64 Packages [1,405 kB]\n",
            "Get:21 http://security.ubuntu.com/ubuntu bionic-security/universe amd64 Packages [869 kB]\n",
            "Get:22 http://security.ubuntu.com/ubuntu bionic-security/main amd64 Packages [1,003 kB]\n",
            "Get:23 http://archive.ubuntu.com/ubuntu bionic-updates/multiverse amd64 Packages [13.6 kB]\n",
            "Get:24 http://archive.ubuntu.com/ubuntu bionic-updates/main amd64 Packages [1,303 kB]\n",
            "Get:25 http://archive.ubuntu.com/ubuntu bionic-updates/restricted amd64 Packages [103 kB]\n",
            "Get:26 http://ppa.launchpad.net/marutter/c2d4u3.5/ubuntu bionic/main amd64 Packages [891 kB]\n",
            "Fetched 8,157 kB in 3s (3,093 kB/s)\n",
            "Reading package lists... Done\n"
          ],
          "name": "stdout"
        }
      ]
    },
    {
      "cell_type": "code",
      "metadata": {
        "id": "h0veO8pzbvJ_",
        "colab_type": "code",
        "colab": {
          "base_uri": "https://localhost:8080/",
          "height": 155
        },
        "outputId": "d46235d5-27c6-41d2-965f-26f07a727be1"
      },
      "source": [
        "!sudo apt install tesseract-ocr"
      ],
      "execution_count": 43,
      "outputs": [
        {
          "output_type": "stream",
          "text": [
            "Reading package lists... Done\n",
            "Building dependency tree       \n",
            "Reading state information... Done\n",
            "tesseract-ocr is already the newest version (4.00~git2288-10f4998a-2).\n",
            "The following package was automatically installed and is no longer required:\n",
            "  libnvidia-common-440\n",
            "Use 'sudo apt autoremove' to remove it.\n",
            "0 upgraded, 0 newly installed, 0 to remove and 81 not upgraded.\n"
          ],
          "name": "stdout"
        }
      ]
    },
    {
      "cell_type": "code",
      "metadata": {
        "id": "fY-ey-Nbb_fS",
        "colab_type": "code",
        "colab": {
          "base_uri": "https://localhost:8080/",
          "height": 52
        },
        "outputId": "b139f23c-a252-4f78-c339-7c06c34e8552"
      },
      "source": [
        "!sudo pip install pytesseract"
      ],
      "execution_count": 44,
      "outputs": [
        {
          "output_type": "stream",
          "text": [
            "Requirement already satisfied: pytesseract in /usr/local/lib/python3.6/dist-packages (0.3.4)\n",
            "Requirement already satisfied: Pillow in /usr/local/lib/python3.6/dist-packages (from pytesseract) (7.0.0)\n"
          ],
          "name": "stdout"
        }
      ]
    },
    {
      "cell_type": "code",
      "metadata": {
        "id": "jzBiaLvMcI5-",
        "colab_type": "code",
        "colab": {
          "base_uri": "https://localhost:8080/",
          "height": 155
        },
        "outputId": "b5a775b1-a8fb-4011-ccd7-27954613f55a"
      },
      "source": [
        "!sudo apt install libtesseract-dev"
      ],
      "execution_count": 45,
      "outputs": [
        {
          "output_type": "stream",
          "text": [
            "Reading package lists... Done\n",
            "Building dependency tree       \n",
            "Reading state information... Done\n",
            "libtesseract-dev is already the newest version (4.00~git2288-10f4998a-2).\n",
            "The following package was automatically installed and is no longer required:\n",
            "  libnvidia-common-440\n",
            "Use 'sudo apt autoremove' to remove it.\n",
            "0 upgraded, 0 newly installed, 0 to remove and 81 not upgraded.\n"
          ],
          "name": "stdout"
        }
      ]
    },
    {
      "cell_type": "code",
      "metadata": {
        "id": "cbc3DHCHchr8",
        "colab_type": "code",
        "colab": {
          "base_uri": "https://localhost:8080/",
          "height": 34
        },
        "outputId": "0b5ff200-5870-4ec9-f118-55ab0cc0ba35"
      },
      "source": [
        "# Here we are saving source image in the directory.\n",
        "# Mounting google drive for retriving image.\n",
        "\n",
        "from google.colab import drive\n",
        "drive.mount('/content/gdrive')\n",
        "\n",
        "filename = ('gdrive/My Drive/images/testimg4.png')"
      ],
      "execution_count": 46,
      "outputs": [
        {
          "output_type": "stream",
          "text": [
            "Mounted at /content/gdrive\n"
          ],
          "name": "stdout"
        }
      ]
    },
    {
      "cell_type": "markdown",
      "metadata": {
        "id": "iWBOlNuGq2RN",
        "colab_type": "text"
      },
      "source": [
        "**Test image:**\n"
      ]
    },
    {
      "cell_type": "markdown",
      "metadata": {
        "id": "_PQqLEKkLKVP",
        "colab_type": "text"
      },
      "source": [
        "**Below is the link of input image which i am taking to test.**\n"
      ]
    },
    {
      "cell_type": "markdown",
      "metadata": {
        "id": "M9jTM6JvLK0s",
        "colab_type": "text"
      },
      "source": [
        "**You can download it to run in your system**\n"
      ]
    },
    {
      "cell_type": "markdown",
      "metadata": {
        "id": "xUM1eV9TLesg",
        "colab_type": "text"
      },
      "source": [
        "https://drive.google.com/file/d/1AUzQM4VFP7kAHBAlYPKnMLk6qiMzUiOC/view?usp=sharing"
      ]
    },
    {
      "cell_type": "code",
      "metadata": {
        "id": "NETn4DIRiSv9",
        "colab_type": "code",
        "colab": {
          "base_uri": "https://localhost:8080/",
          "height": 121
        },
        "outputId": "9d12b846-7048-45b8-be7a-108e2702678a"
      },
      "source": [
        "import cv2\n",
        "import numpy as np\n",
        "import pytesseract\n",
        "from PIL import Image\n",
        "\n",
        "def get_string(img_path):\n",
        "  #reading image with opencv\n",
        "  img = cv2.imread(img_path)\n",
        "\n",
        "  #Here converting image into gray scale image\n",
        "  img = cv2.cvtColor(img, cv2.COLOR_BGR2GRAY)\n",
        "\n",
        "  #Here applying dilation and erosion to remove some noise from image\n",
        "  kernel = np.ones((1,1), np.uint8)\n",
        "  img = cv2.dilate(img, kernel, iterations=1)\n",
        "  img = cv2.erode(img, kernel, iterations=1)\n",
        "\n",
        "  #write image after removing noise\n",
        "  cv2.imwrite(\"removed_noise.png\", img)\n",
        "\n",
        "  #Apply threshold to get image with only black and white because it is difficult\n",
        "  #for pytesseract to read image with colors and noise\n",
        "  #Write teh image after apply opencv to do some task\n",
        "  cv2.imwrite(img_path, img)\n",
        "\n",
        "  #Recognize text with tesseract and saving result into result\n",
        "  result = pytesseract.image_to_string(Image.open(img_path))\n",
        "\n",
        "  return result\n",
        "\n",
        "print(\"__The Process is started __\")\n",
        "print(\"Text from image , Which is recognized::\")\n",
        "print(get_string(filename))\n",
        "\n",
        "print(\"__The Process is completed__\")"
      ],
      "execution_count": 47,
      "outputs": [
        {
          "output_type": "stream",
          "text": [
            "__The Process is started __\n",
            "Text from image , Which is recognized::\n",
            "This iS my test Image\n",
            "for Project\n",
            "TCS TON -RIO 125\n",
            "__The Process is completed__\n"
          ],
          "name": "stdout"
        }
      ]
    }
  ]
}